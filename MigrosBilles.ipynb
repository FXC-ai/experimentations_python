{
 "cells": [
  {
   "cell_type": "markdown",
   "metadata": {},
   "source": [
    "# Le problème du collectionneur de bille"
   ]
  },
  {
   "cell_type": "markdown",
   "metadata": {},
   "source": [
    "<p>\n",
    "Pendant la période de Noël, la Migros offrait 1 bille pour chaque dépense de 20 CHf dans ses magasins. Il existait 20 billes différentes à collectionner. <br> Question : Quel montant était-il nécessaire de dépenser en moyenne pour avoir toutes les billes ?\n",
    "</p>"
   ]
  },
  {
   "cell_type": "markdown",
   "metadata": {},
   "source": [
    "## PARTIE I : Résolution empirique :"
   ]
  },
  {
   "cell_type": "code",
   "execution_count": 89,
   "metadata": {},
   "outputs": [],
   "source": [
    "import random\n",
    "import string\n",
    "import math\n",
    "import numpy as np\n",
    "import pandas as pd\n",
    "import matplotlib.pyplot as plt\n",
    "%matplotlib inline"
   ]
  },
  {
   "cell_type": "code",
   "execution_count": 90,
   "metadata": {},
   "outputs": [],
   "source": [
    "#Commençons par ecrire un script Python qui simule nos tirages de billes aléatoire :\n",
    "\n",
    "random.seed(4)\n",
    "list_nbr_tirage = list()\n",
    "int_nbr_collectionneurs = 10000\n",
    "\n",
    "#Cette boucle a pour but de simuler un grand nombre d'experience\n",
    "#Ici, il s'agit 1000 collectionneurs qui vont faire des courses jusqu'à ce qu'ils aient toutes les billes\n",
    "for _ in range(int_nbr_collectionneurs):\n",
    "    \n",
    "    #Liste des différentes billes disponibles, chaque bille possède une lettre qui la différencie (de A à T)\n",
    "    billes = list(string.ascii_uppercase)[0:20]\n",
    "    \n",
    "    #Liste des billes non tirées par le collectionneur :\n",
    "    check = list(string.ascii_uppercase)[0:20]\n",
    "    \n",
    "    #Liste de l'historique des billes tirées par le collectionneur\n",
    "    tirage = list()\n",
    "    \n",
    "    #Cette boucle simule les tirages d'un seul colectionneur\n",
    "    while len(check) != 0 :\n",
    "        \n",
    "        new_bille = random.choice(billes)\n",
    "        \n",
    "        if new_bille in check :\n",
    "            check.remove(new_bille)\n",
    "        \n",
    "        tirage.append(new_bille)\n",
    "        \n",
    "    #On sauvegarde dans cette liste le nombre de tirage nécessaire pour chaque collectionneur \n",
    "    list_nbr_tirage.append(len(tirage))\n",
    "    df_nbr_tirage = pd.DataFrame(list_nbr_tirage, columns = ['nbr tirage'])\n"
   ]
  },
  {
   "cell_type": "code",
   "execution_count": 91,
   "metadata": {},
   "outputs": [
    {
     "data": {
      "text/html": [
       "<div>\n",
       "<style scoped>\n",
       "    .dataframe tbody tr th:only-of-type {\n",
       "        vertical-align: middle;\n",
       "    }\n",
       "\n",
       "    .dataframe tbody tr th {\n",
       "        vertical-align: top;\n",
       "    }\n",
       "\n",
       "    .dataframe thead th {\n",
       "        text-align: right;\n",
       "    }\n",
       "</style>\n",
       "<table border=\"1\" class=\"dataframe\">\n",
       "  <thead>\n",
       "    <tr style=\"text-align: right;\">\n",
       "      <th></th>\n",
       "      <th>nbr tirage</th>\n",
       "    </tr>\n",
       "  </thead>\n",
       "  <tbody>\n",
       "    <tr>\n",
       "      <th>0</th>\n",
       "      <td>55</td>\n",
       "    </tr>\n",
       "    <tr>\n",
       "      <th>1</th>\n",
       "      <td>62</td>\n",
       "    </tr>\n",
       "    <tr>\n",
       "      <th>2</th>\n",
       "      <td>75</td>\n",
       "    </tr>\n",
       "    <tr>\n",
       "      <th>3</th>\n",
       "      <td>63</td>\n",
       "    </tr>\n",
       "    <tr>\n",
       "      <th>4</th>\n",
       "      <td>68</td>\n",
       "    </tr>\n",
       "    <tr>\n",
       "      <th>5</th>\n",
       "      <td>105</td>\n",
       "    </tr>\n",
       "    <tr>\n",
       "      <th>6</th>\n",
       "      <td>71</td>\n",
       "    </tr>\n",
       "    <tr>\n",
       "      <th>7</th>\n",
       "      <td>117</td>\n",
       "    </tr>\n",
       "    <tr>\n",
       "      <th>8</th>\n",
       "      <td>86</td>\n",
       "    </tr>\n",
       "    <tr>\n",
       "      <th>9</th>\n",
       "      <td>50</td>\n",
       "    </tr>\n",
       "  </tbody>\n",
       "</table>\n",
       "</div>"
      ],
      "text/plain": [
       "   nbr tirage\n",
       "0          55\n",
       "1          62\n",
       "2          75\n",
       "3          63\n",
       "4          68\n",
       "5         105\n",
       "6          71\n",
       "7         117\n",
       "8          86\n",
       "9          50"
      ]
     },
     "execution_count": 91,
     "metadata": {},
     "output_type": "execute_result"
    }
   ],
   "source": [
    "df_nbr_tirage.head(10)\n",
    "#En obervant les 10 premières expèriences, nous constatons :\n",
    "#     - que le collectionneur le plus chanceux obtient toutes les billes pour 1000 CHf d'achât (50*20CHf)\n",
    "#     - que le moins chaceux a dû debourser 2340 CHf (117 * 20CHf) "
   ]
  },
  {
   "cell_type": "code",
   "execution_count": 92,
   "metadata": {},
   "outputs": [
    {
     "data": {
      "text/plain": [
       "72.0168"
      ]
     },
     "execution_count": 92,
     "metadata": {},
     "output_type": "execute_result"
    }
   ],
   "source": [
    "#Sur les 10000 collectionneurs, il est nécesssaire d'effectuer en moyenne 72 tirages pour obtenir toutes les billes\n",
    "#C'est à dire dépenser 72*20 = 1440 CHf en moyenne\n",
    "meanEmp = df_nbr_tirage['nbr tirage'].mean()\n",
    "meanEmp"
   ]
  },
  {
   "cell_type": "code",
   "execution_count": 93,
   "metadata": {},
   "outputs": [
    {
     "name": "stdout",
     "output_type": "stream",
     "text": [
      "267 tirages\n",
      "Soit 5340 CHf dépensés\n",
      "25 tirages\n",
      "Soit 500 CHf dépensés\n"
     ]
    }
   ],
   "source": [
    "#Voici les maximum et minimum sur les 1000 collectionneurs, il y a beaucoup de disparité entre les collectionneurs\n",
    "maxi = df_nbr_tirage.max()\n",
    "mini = df_nbr_tirage.min()\n",
    "\n",
    "print(int(maxi), 'tirages')\n",
    "print('Soit', int(maxi)*20, 'CHf dépensés')\n",
    "\n",
    "print(int(mini), 'tirages')\n",
    "print('Soit', int(mini)*20, 'CHf dépensés')"
   ]
  },
  {
   "cell_type": "code",
   "execution_count": 94,
   "metadata": {},
   "outputs": [
    {
     "name": "stdout",
     "output_type": "stream",
     "text": [
      "Variance =  572\n",
      "Ecart-Type =  24\n"
     ]
    }
   ],
   "source": [
    "#La variance est très elevée, il y a beaucoup de dispersion autour de la moyenne.\n",
    "varianceEmp = df_nbr_tirage['nbr tirage'].var()\n",
    "print('Variance = ', math.ceil(varianceEmp))\n",
    "ecartTypeEmp = math.sqrt(varianceEmp)\n",
    "print('Ecart-Type = ', math.ceil(ecartTypeEmp))"
   ]
  },
  {
   "cell_type": "code",
   "execution_count": 95,
   "metadata": {},
   "outputs": [
    {
     "data": {
      "text/plain": [
       "Text(0.5, 1.0, 'Répartition des collectionneurs selon le nombre de tirages')"
      ]
     },
     "execution_count": 95,
     "metadata": {},
     "output_type": "execute_result"
    },
    {
     "data": {
      "image/png": "[encoded data removed]",
      "text/plain": [
       "<Figure size 864x432 with 1 Axes>"
      ]
     },
     "metadata": {
      "needs_background": "light"
     },
     "output_type": "display_data"
    }
   ],
   "source": [
    "#Répartition des collectionneurs selon le nombre de tirages\n",
    "df_nbr_tirage['nbr tirage'].hist(bins=60, figsize=(12,6))\n",
    "plt.title('Répartition des collectionneurs selon le nombre de tirages')"
   ]
  },
  {
   "cell_type": "code",
   "execution_count": 96,
   "metadata": {},
   "outputs": [
    {
     "data": {
      "text/plain": [
       "Text(0.5, 1.0, 'Densité des collectionneurs selon le nombre de tirages')"
      ]
     },
     "execution_count": 96,
     "metadata": {},
     "output_type": "execute_result"
    },
    {
     "data": {
      "image/png": "[encoded data removed]",
      "text/plain": [
       "<Figure size 864x432 with 1 Axes>"
      ]
     },
     "metadata": {
      "needs_background": "light"
     },
     "output_type": "display_data"
    }
   ],
   "source": [
    "#Densité des collectionneurs selon le nombre de tirage\n",
    "df_nbr_tirage['nbr tirage'].plot.density(figsize = (12,6))\n",
    "plt.title('Densité des collectionneurs selon le nombre de tirages')"
   ]
  },
  {
   "cell_type": "markdown",
   "metadata": {},
   "source": [
    "## PARTIE 2 : Résolution mathématique :"
   ]
  },
  {
   "cell_type": "markdown",
   "metadata": {},
   "source": [
    "<h2>Quelques prérequis indispensables</h2>\n",
    "\n",
    "<h3>A propos des suites géométriques :</h3>\n",
    "<p>\n",
    "Suite géométrique définie par relation de récurence :\n",
    "$\n",
    "       \\left\\{\n",
    "          \\begin{array}{ll}\n",
    "            u_{n+1}=q\\times u_{n}, & n ∈ \\mathbb {N}\\\\\n",
    "            u_{0}=a &\\\\\n",
    "          \\end{array}\n",
    "        \\right.\n",
    "$<br>\n",
    "    \n",
    "Suite géométrique définie en fonction de n : $u_{n}=u_{0}\\times q^n = a\\times q^n$\n",
    "\n",
    "</p>\n",
    "\n",
    "<h4>Somme des termes d'une suite géométrique :</h4>\n",
    "\n",
    "<p>\n",
    "Il est important d'avoir en tête, la formule suivante :\n",
    "${\\displaystyle S_{n}=\\sum _{0\\leq k\\leq n}a\\times q^{k}=a\\,{\\frac {1-q^{n+1}}{1-q}}}$.\n",
    "</p>\n",
    "<h5>Démonstration :</h5>\n",
    "<p>\n",
    "Il existe plusieurs manières de démontrer ce résultat, en voici une. Considérons les 2 égalités suivantes :<br>\n",
    "    <ul>\n",
    "        <li>${S}_n = a + aq + aq^2 + ... + aq^{n-1} + aq^n$</li>\n",
    "        <li>$q{S}_n = aq + aq^2 + ... + aq^{n-1} + aq^n + aq^{n+1}$</li>\n",
    "    </ul>\n",
    "\n",
    "On les soustrait l'une avec l'autre :\n",
    "${S}_n - q{S}_n = a - (aq - aq) - (aq^2 - aq^2) - ... - (aq^{n-1} - aq^{n-1}) - (aq^n - aq^n) - aq^{n+1} $\n",
    "\n",
    "On obtient donc : ${\\displaystyle \\left(1-q\\right)S_{n}=a\\left(1-q^{n+1}\\right)}$, c'est à dire ${\\displaystyle S_{n}=a\\,{\\cfrac {1-q^{n+1}}{1-q}}}$\n",
    "</p>"
   ]
  },
  {
   "cell_type": "markdown",
   "metadata": {},
   "source": [
    "<h3>A propos de la loi géométrique :</h3>\n",
    "<p>\n",
    "C'est une loi de probabilité discrète définie telle que : ${\\displaystyle {P} (X=k)=q^{k-1}p}$\n",
    "</p>\n",
    "<p>\n",
    "La probabilité que X = k correspond à la probabilité d'obtenir k-1 echecs et 1 succès sur un ensemble de k épreuves de Bernoulli indépendantes avec :\n",
    "    <ul>\n",
    "        <li> $k ∈ \\mathbb {N}$,  </li>\n",
    "        <li> q : probabilité d'obtenir un echec</li>\n",
    "        <li> p : probabilité d'obtenir un succès tel que $p = 1- q$</li>\n",
    "    </ul>\n",
    "</p>\n",
    "<h4>Espérance de la loi géométrique :</h4>\n",
    "\n",
    "<p>\n",
    "L'espérance de la loi géométrique est donnée par la formule :\n",
    "${\\displaystyle{E} [X]= \\frac {1}{p}}$.\n",
    "</p>\n",
    "<h5>Démonstration :</h5>\n",
    "<p>\n",
    "Nous avons démontré plus haut que ${\\displaystyle \\sum _{k=0}^{k=n}q^{k}=\\,{\\frac {1-q^{n+1}}{1-q}}}$ \n",
    "or pour ${\\displaystyle 0<q<1}$,${\\displaystyle \\lim_{n \\to +\\infty} \\frac {1-q^{n+1}}{1-q} = \\frac {1}{1-q}}$, ainsi, ${\\displaystyle \\sum _{k=0}^{+\\infty }q^{k} = \\frac {1}{1-q}}$.\n",
    "</p>\n",
    "<p>\n",
    "Soit ${\\displaystyle f(k) = \\sum _{k=0}^{+\\infty }q^{k} = \\frac {1}{1-q}}$. \n",
    "La dérivée de f est ${\\displaystyle f'(k) = \\sum _{k=1}^{+\\infty }kq^{k-1} = \\frac {1}{(1-q)^2}}$.<br>\n",
    "Soit X, une variable aléatoire discrète suivant une loi géométrique tel que : ${\\displaystyle {P} (X=k)=q^{k-1}p}$<br>\n",
    "Nous avons donc ${\\displaystyle{E} (X)=\\sum _{k=1}^{+\\infty }kq^{k-1}p = f'(k)\\times p = \\frac {p}{(1-q)^2} = \\frac {p}{p^2} = \\frac {1}{p}}$.\n",
    "</p>\n",
    "\n",
    "<h4>Variance de la loi géométrique :</h4>\n",
    "\n",
    "<p>\n",
    "La variance de la loi géométrique est donnée par la formule : \n",
    "${\\displaystyle Var(X) = \\frac{q}{p^2}}$\n",
    "</p>\n",
    "\n",
    "<h5>Démonstration :</h5>\n",
    "\n",
    "<p>\n",
    "\n",
    "Tout d'abord reprenons la dérivée de la fonction f définie plus haut : ${\\displaystyle f'(k) = \\sum _{k=1}^{+\\infty }kq^{k-1} = \\frac {1}{(1-q)^2}}$ <br>\n",
    "    \n",
    "Nous dérivons f une seconde fois :\n",
    "${\\displaystyle f''(k) = \\sum_{k=2}^{+\\infty}k(k-1) \\times q^{k-2}}$ <br>\n",
    "\n",
    "Soit l'égalité A définie telle que : ${\\displaystyle A = q \\times f''(k) + f'(k) = \\frac{2q}{(1-q)^3} + \\frac{1}{(1-q)^2}}$<br>\n",
    "${\\displaystyle A = q \\sum_{k=2}^{+\\infty} k(k-1)q^{k-2} + \\sum _{k=1}^{+\\infty }kq^{k-1}}$<br>\n",
    "${\\displaystyle A = 2q + 6q^{2} + 12q^{3} + ... +q \\times k(k-1)q^{k-2} + ... + q^{0} + 2q + 3q^{2}+4q^{3} + ... + kq^{k-1} + ...}$<br>\n",
    "${\\displaystyle A = 1 + 4q + 9q^{2} + 16q^{3} + ... + (k(k-1)q^{k-1} + kq^{k-1}) + ...}$<br>\n",
    "${\\displaystyle A = 1^2q^{1-1} + 2^2q^{2-1} + 3^2q^{3-1} + 4^2q^{4-1} + ... + (k^2 - k + k)\\times q^{k-1} + ...}$<br>\n",
    "${\\displaystyle A = \\sum_{k=1}^{+\\infty} k^2q^{k-1}}$<br>\n",
    "On obtient donc ${\\displaystyle A = \\sum_{k=1}^{+\\infty} k^2q^{k-1} = \\frac{2q}{(1-q)^3} + \\frac{1}{(1-q)^2} = \\frac{2}{(1-q)^3} - \\frac{1}{(1-q)^2}}$<br>\n",
    "Explication pour la dernière égalité : ${\\displaystyle D + B = C - B}$ donc, ${\\displaystyle C = D + 2B}$, on obtient : ${\\displaystyle C = \\frac{2q}{(1-q)^3} + 2 \\times \\frac{1}{(1-q)^2} = \\frac{2}{(1-q)^3} }$\n",
    "    \n",
    "</p>\n",
    "\n",
    "<p>\n",
    "Selon le théorême de König-Huygens : ${\\displaystyle Var(X) = {E}(X^2) - {E}(X)^2}$\n",
    "    \n",
    "Dans notre cas nous avons : \n",
    "<ul>\n",
    "    <li>${\\displaystyle {E}(X^2) = p\\times \\sum_{k=1}^{+\\infty}k^2q^{k-1} = \\frac{2p}{(1-q)^3} - \\frac{p}{(1-q)^2} = \\frac{2p}{p^3} - \\frac{p}{p^2} = \\frac{2}{p^2} - \\frac{1}{p} }$</li>\n",
    "    <li>${\\displaystyle {E}(X)^2 = \\frac{1}{p^2}} $</li>\n",
    "\n",
    "</ul>\n",
    "On a donc ${\\displaystyle Var(X) = \\frac{2}{p^2} - \\frac{1}{p} - \\frac{1}{p^2}= \\frac{1-p}{p^2} = \\frac{q}{p^2}}$\n",
    "\n",
    "</p>\n",
    "\n",
    "<h4>Fonction de répartition d'une loi géométrique :</h4>\n",
    "\n",
    "<p>\n",
    "X suit la loi géométrique de paramètre p. Soit F la fonction de répartition de la variable X. On a alors : ${\\displaystyle F(n) = P(X \\leq n) = 1 - q^{n}}$<br>\n",
    "    \n",
    "</p>\n",
    "\n",
    "<h5>Démonstration :</h5>\n",
    "<p>\n",
    "Nous savons que ${\\displaystyle {P} (X=n)=q^{n-1}p}$, par conséquent ${\\displaystyle F(n) = {P} (X \\leq n)=p \\times \\sum_{k=1}^{k=n} q^{k-1} = p \\times \\sum_{k=0}^{k=n-1} q^{k} = p \\times \\frac {1-q^{n}}{1-q}} $.<br>\n",
    "    \n",
    "On sait que ${\\displaystyle p = 1-q}$, donc ${F(n) = 1-q^{n}}$.\n",
    "</p>"
   ]
  },
  {
   "cell_type": "code",
   "execution_count": 97,
   "metadata": {},
   "outputs": [],
   "source": [
    "class LoiGeometric :\n",
    "    \n",
    "    def __init__(self, p):\n",
    "        self.q = 1 - p\n",
    "        self.p = p        \n",
    "    \n",
    "    def calcEsperance(self):\n",
    "        self.esperance = 1/self.p\n",
    "        return self.esperance\n",
    "    \n",
    "    def calcVariance(self):\n",
    "        self.variance = self.q/self.p**2\n",
    "        return self.variance\n",
    "    \n",
    "    def calcEcartType(self):\n",
    "        self.ecartType = sqrt(self.q)/self.p\n",
    "        return self.ecartType\n",
    "        \n",
    "    def calcProbability(self, k):\n",
    "        return (self.q**(k-1))*self.p\n",
    "    \n",
    "    def calcFctRepartition(self, k):\n",
    "        return 1 - self.q**k\n",
    "    \n",
    "    def calcFctRepartitionReverse(self, pct):\n",
    "       r= 0\n",
    "       while self.q**r >= 1-pct :\n",
    "           r+=0.0001\n",
    "       return r+1\n",
    "   \n",
    "    def reprLoiGeometric (self, kmax):\n",
    "        x = np.arange(1,kmax)\n",
    "        y = self.calcProbability(x)\n",
    "        fig = plt.figure(figsize = (12,6))\n",
    "        axes1 = fig.add_axes([0.1,0.1,0.9,0.9])\n",
    "        axes1.scatter(x,y)\n",
    "        axes1.grid()\n",
    "        axes1.set_ylabel('Probabilité d\\'obtenir une nouvelle bille avec X tirages')\n",
    "        axes1.set_xlabel('Nbr de tirage')\n",
    "        axes1.set_title('Loi géométrique avec probabilité {} de succés'.format(self.p))\n",
    "        \n",
    "    def reprFctRepartition (self, kmax):\n",
    "        x = np.arange(1,kmax)\n",
    "        y = self.calcFctRepartition(x)\n",
    "        fig = plt.figure(figsize = (12,6))\n",
    "        axes2 = fig.add_axes([0.1,0.1,0.9,0.9])\n",
    "        axes2.scatter(x,y)\n",
    "        axes2.grid()\n",
    "        axes2.set_ylabel('Probabilité d\\'obtenir une nouvelle bille')\n",
    "        axes2.set_xlabel('Nbr de tirage')\n",
    "        axes2.set_title('Fct de répartition d\\'une loi géométrique avec probabilité {} de succés'.format(self.p))\n",
    "        "
   ]
  },
  {
   "cell_type": "code",
   "execution_count": 98,
   "metadata": {},
   "outputs": [
    {
     "data": {
      "image/png": "[encoded data removed]",
      "text/plain": [
       "<Figure size 864x432 with 1 Axes>"
      ]
     },
     "metadata": {
      "needs_background": "light"
     },
     "output_type": "display_data"
    },
    {
     "data": {
      "image/png": "[encoded data removed]",
      "text/plain": [
       "<Figure size 864x432 with 1 Axes>"
      ]
     },
     "metadata": {
      "needs_background": "light"
     },
     "output_type": "display_data"
    }
   ],
   "source": [
    "#Exemple de loi géométrique avec p = 2/20. Cela représente le cas où notre collectionneur possède déjà 18 billes\n",
    "#différentes et essaie d'en obtenir une 19ème.\n",
    "newLaw = LoiGeometric (2/20)\n",
    "newLaw.reprLoiGeometric(25)\n",
    "newLaw.reprFctRepartition(25)"
   ]
  },
  {
   "cell_type": "markdown",
   "metadata": {},
   "source": [
    "<h3>Revenons au problème de notre collection de bille</h3>\n",
    "\n",
    "<p>Soit la variable aléatoire T suivante : ${\\displaystyle T_{n}=\\sum _{i=1}^{n}t_{i}}$ </p>\n",
    "\n",
    "<p>\n",
    "    <ul>\n",
    "        <li>\n",
    "        T : le nombre de tirage avec remise nécessaire pour obtenir toutes les billes. On peut considérer T comme le temps nécessaire pour obtenir toutes les billes en supposant que à chaque pas de temps, on tire une nouvelle bille.\n",
    "        </li>\n",
    "        <li>\n",
    "        n : le nombre de billes différentes à collectionner. Ici n = 20.\n",
    "        </li>\n",
    "        <li>\n",
    "        $t_{i}$ : temps supplémentaire pour obtenir une i-ème bille sachant que le collectionneur en a déjà i-1. Cela signifie que si le collectionneur possède déjà i-1 billes sur les 20 billes à collectionner alors la probabilité d'en obtenir une nouvelle au tirage suivant est : ${\\displaystyle p = \\frac {n-(i-1)}{n}}$\n",
    "        </li>\n",
    "    </ul>\n",
    "<p>\n",
    "<p>\n",
    "    $t_{i}$ suit une loi géométrique de paramètre ${\\displaystyle p = \\frac {n-(i-1)}{n}}$, ainsi nous savons que ${\\displaystyle  E (t_{i}) = \\frac{1}{p}}$\n",
    "\n",
    "    \n",
    "</p>\n",
    "\n",
    "<p>\n",
    "    Par linéarité de l'espérance : ${\\displaystyle {E} (T_{n})= {E} (t_{1})+ {E} (t_{2})+\\cdots + {E} (t_{n}) = \\sum_{i = 1}^{n}{E} (t_{i})}$<br>\n",
    "    La solution à notre problème est le résultat du calcul : ${\\displaystyle \\sum_{i = 1}^{i=20}{E} (t_{i}) = \\sum_{i = 1}^{i=20}\\frac {n}{n-(i-1)}}$\n",
    "\n",
    "</p>"
   ]
  },
  {
   "cell_type": "code",
   "execution_count": 99,
   "metadata": {},
   "outputs": [],
   "source": [
    "#La classe collection permet de calculer le nombre de tirage à faire en moyenne pour obtenir toutes les billes\n",
    "#Elle permet également de calculer la variance sur ce nombre de tirage\n",
    "class Collection :\n",
    "    def __init__(self, nbr_billes):\n",
    "        self.nbr_billes = nbr_billes # le seul parametre de la classe est le nombre de billes à collectionner\n",
    "        self.list_esperance = list()\n",
    "        self.list_variance = list()\n",
    "        self.list_geometricLaws = [LoiGeometric(b/nbr_billes) for b in range(1, nbr_billes + 1)]\n",
    "    \n",
    "    def calculEsperance (self):\n",
    "        esperanceTot = 0\n",
    "        for law in self.list_geometricLaws :\n",
    "            e = law.calcEsperance() #objets LoiGeometric stockés dans une liste pour calculer l'esperance\n",
    "            self.list_esperance.append(e)\n",
    "            esperanceTot += e            \n",
    "        \n",
    "        return esperanceTot\n",
    "    \n",
    "    def calculVariance (self):\n",
    "        varianceTot = 0\n",
    "        for law in self.list_geometricLaws :\n",
    "            v = law.calcVariance()\n",
    "            self.list_variance.append(v)\n",
    "            varianceTot += v\n",
    "            \n",
    "        return varianceTot"
   ]
  },
  {
   "cell_type": "code",
   "execution_count": 100,
   "metadata": {},
   "outputs": [
    {
     "name": "stdout",
     "output_type": "stream",
     "text": [
      "Le nombre de tirage moyen nécessaire pour obtenir toutes les billes est 71.95479314287363.\n",
      "Empiriquement, nous avions calculés 72.0168 tirages pour obtenir les 20 billes.\n"
     ]
    }
   ],
   "source": [
    "collection = Collection(20)\n",
    "mean20 = collection.calculEsperance()\n",
    "print('Le nombre de tirage moyen nécessaire pour obtenir toutes les billes est {}.'.format(mean20))\n",
    "print('Empiriquement, nous avions calculés {} tirages pour obtenir les 20 billes.'.format(meanEmp))"
   ]
  },
  {
   "cell_type": "code",
   "execution_count": 101,
   "metadata": {},
   "outputs": [
    {
     "name": "stdout",
     "output_type": "stream",
     "text": [
      "La variance pour 20 billes est 566.5105044223355, experimentalement nous avions obtenus 571.5000677667767.\n",
      "Pour l'ecart-type, nous avions obtenus 23.801481139255504 experimentalement et nous avonss 23.906067593119047 par calcul.\n"
     ]
    }
   ],
   "source": [
    "Var20 = collection.calculVariance()\n",
    "EcarT20 = math.sqrt(Var20)\n",
    "print('La variance pour 20 billes est {}, experimentalement nous avions obtenus {}.'.format(Var20,varianceEmp))\n",
    "print('Pour l\\'ecart-type, nous avions obtenus {} experimentalement et nous avonss {} par calcul.'.format(EcarT20, \n",
    "                                                                                                    ecartTypeEmp))"
   ]
  },
  {
   "cell_type": "code",
   "execution_count": 102,
   "metadata": {},
   "outputs": [
    {
     "data": {
      "text/plain": [
       "<matplotlib.axes._subplots.AxesSubplot at 0x7ff8e635c520>"
      ]
     },
     "execution_count": 102,
     "metadata": {},
     "output_type": "execute_result"
    },
    {
     "data": {
      "image/png": "[encoded data removed]",
      "text/plain": [
       "<Figure size 1152x576 with 1 Axes>"
      ]
     },
     "metadata": {
      "needs_background": "light"
     },
     "output_type": "display_data"
    }
   ],
   "source": [
    "#Pour le plaisir voici le graphique montrant l'évolution du nombre de tirage et de la variance en fonction\n",
    "# du nombre de billes à collectionner\n",
    "list_e = list()\n",
    "list_v = list()\n",
    "for c in range(1,30) :\n",
    "    newCollection = Collection(c)\n",
    "    list_e.append(newCollection.calculEsperance())\n",
    "    list_v.append(newCollection.calculVariance())\n",
    "\n",
    "    \n",
    "df_study = pd.DataFrame(list_e, columns = ['esperance'], index = [_ for _ in range(1,30)])\n",
    "df_study['variance'] = list_v\n",
    "df_study.plot(figsize = (16,8), title = 'Variance et Esperance selon le nombre de bille à collectionner')"
   ]
  },
  {
   "cell_type": "code",
   "execution_count": 103,
   "metadata": {},
   "outputs": [
    {
     "data": {
      "text/html": [
       "<div>\n",
       "<style scoped>\n",
       "    .dataframe tbody tr th:only-of-type {\n",
       "        vertical-align: middle;\n",
       "    }\n",
       "\n",
       "    .dataframe tbody tr th {\n",
       "        vertical-align: top;\n",
       "    }\n",
       "\n",
       "    .dataframe thead th {\n",
       "        text-align: right;\n",
       "    }\n",
       "</style>\n",
       "<table border=\"1\" class=\"dataframe\">\n",
       "  <thead>\n",
       "    <tr style=\"text-align: right;\">\n",
       "      <th></th>\n",
       "      <th>esperance</th>\n",
       "      <th>variance</th>\n",
       "    </tr>\n",
       "  </thead>\n",
       "  <tbody>\n",
       "    <tr>\n",
       "      <th>1</th>\n",
       "      <td>1.000000</td>\n",
       "      <td>0.000000</td>\n",
       "    </tr>\n",
       "    <tr>\n",
       "      <th>2</th>\n",
       "      <td>3.000000</td>\n",
       "      <td>2.000000</td>\n",
       "    </tr>\n",
       "    <tr>\n",
       "      <th>3</th>\n",
       "      <td>5.500000</td>\n",
       "      <td>6.750000</td>\n",
       "    </tr>\n",
       "    <tr>\n",
       "      <th>4</th>\n",
       "      <td>8.333333</td>\n",
       "      <td>14.444444</td>\n",
       "    </tr>\n",
       "    <tr>\n",
       "      <th>5</th>\n",
       "      <td>11.416667</td>\n",
       "      <td>25.173611</td>\n",
       "    </tr>\n",
       "    <tr>\n",
       "      <th>6</th>\n",
       "      <td>14.700000</td>\n",
       "      <td>38.990000</td>\n",
       "    </tr>\n",
       "    <tr>\n",
       "      <th>7</th>\n",
       "      <td>18.150000</td>\n",
       "      <td>55.928056</td>\n",
       "    </tr>\n",
       "    <tr>\n",
       "      <th>8</th>\n",
       "      <td>21.742857</td>\n",
       "      <td>76.012154</td>\n",
       "    </tr>\n",
       "    <tr>\n",
       "      <th>9</th>\n",
       "      <td>25.460714</td>\n",
       "      <td>99.260472</td>\n",
       "    </tr>\n",
       "    <tr>\n",
       "      <th>10</th>\n",
       "      <td>29.289683</td>\n",
       "      <td>125.687091</td>\n",
       "    </tr>\n",
       "    <tr>\n",
       "      <th>11</th>\n",
       "      <td>33.218651</td>\n",
       "      <td>155.303245</td>\n",
       "    </tr>\n",
       "    <tr>\n",
       "      <th>12</th>\n",
       "      <td>37.238528</td>\n",
       "      <td>188.118108</td>\n",
       "    </tr>\n",
       "    <tr>\n",
       "      <th>13</th>\n",
       "      <td>41.341739</td>\n",
       "      <td>224.139313</td>\n",
       "    </tr>\n",
       "    <tr>\n",
       "      <th>14</th>\n",
       "      <td>45.521873</td>\n",
       "      <td>263.373312</td>\n",
       "    </tr>\n",
       "    <tr>\n",
       "      <th>15</th>\n",
       "      <td>49.773435</td>\n",
       "      <td>305.825629</td>\n",
       "    </tr>\n",
       "    <tr>\n",
       "      <th>16</th>\n",
       "      <td>54.091664</td>\n",
       "      <td>351.501049</td>\n",
       "    </tr>\n",
       "    <tr>\n",
       "      <th>17</th>\n",
       "      <td>58.472393</td>\n",
       "      <td>400.403755</td>\n",
       "    </tr>\n",
       "    <tr>\n",
       "      <th>18</th>\n",
       "      <td>62.911945</td>\n",
       "      <td>452.537439</td>\n",
       "    </tr>\n",
       "    <tr>\n",
       "      <th>19</th>\n",
       "      <td>67.407053</td>\n",
       "      <td>507.905378</td>\n",
       "    </tr>\n",
       "    <tr>\n",
       "      <th>20</th>\n",
       "      <td>71.954793</td>\n",
       "      <td>566.510504</td>\n",
       "    </tr>\n",
       "    <tr>\n",
       "      <th>21</th>\n",
       "      <td>76.552533</td>\n",
       "      <td>628.355458</td>\n",
       "    </tr>\n",
       "    <tr>\n",
       "      <th>22</th>\n",
       "      <td>81.197892</td>\n",
       "      <td>693.442624</td>\n",
       "    </tr>\n",
       "    <tr>\n",
       "      <th>23</th>\n",
       "      <td>85.888705</td>\n",
       "      <td>761.774173</td>\n",
       "    </tr>\n",
       "    <tr>\n",
       "      <th>24</th>\n",
       "      <td>90.622996</td>\n",
       "      <td>833.352084</td>\n",
       "    </tr>\n",
       "    <tr>\n",
       "      <th>25</th>\n",
       "      <td>95.398954</td>\n",
       "      <td>908.178173</td>\n",
       "    </tr>\n",
       "    <tr>\n",
       "      <th>26</th>\n",
       "      <td>100.214913</td>\n",
       "      <td>986.254108</td>\n",
       "    </tr>\n",
       "    <tr>\n",
       "      <th>27</th>\n",
       "      <td>105.069332</td>\n",
       "      <td>1067.581431</td>\n",
       "    </tr>\n",
       "    <tr>\n",
       "      <th>28</th>\n",
       "      <td>109.960789</td>\n",
       "      <td>1152.161568</td>\n",
       "    </tr>\n",
       "    <tr>\n",
       "      <th>29</th>\n",
       "      <td>114.887960</td>\n",
       "      <td>1239.995844</td>\n",
       "    </tr>\n",
       "  </tbody>\n",
       "</table>\n",
       "</div>"
      ],
      "text/plain": [
       "     esperance     variance\n",
       "1     1.000000     0.000000\n",
       "2     3.000000     2.000000\n",
       "3     5.500000     6.750000\n",
       "4     8.333333    14.444444\n",
       "5    11.416667    25.173611\n",
       "6    14.700000    38.990000\n",
       "7    18.150000    55.928056\n",
       "8    21.742857    76.012154\n",
       "9    25.460714    99.260472\n",
       "10   29.289683   125.687091\n",
       "11   33.218651   155.303245\n",
       "12   37.238528   188.118108\n",
       "13   41.341739   224.139313\n",
       "14   45.521873   263.373312\n",
       "15   49.773435   305.825629\n",
       "16   54.091664   351.501049\n",
       "17   58.472393   400.403755\n",
       "18   62.911945   452.537439\n",
       "19   67.407053   507.905378\n",
       "20   71.954793   566.510504\n",
       "21   76.552533   628.355458\n",
       "22   81.197892   693.442624\n",
       "23   85.888705   761.774173\n",
       "24   90.622996   833.352084\n",
       "25   95.398954   908.178173\n",
       "26  100.214913   986.254108\n",
       "27  105.069332  1067.581431\n",
       "28  109.960789  1152.161568\n",
       "29  114.887960  1239.995844"
      ]
     },
     "execution_count": 103,
     "metadata": {},
     "output_type": "execute_result"
    }
   ],
   "source": [
    "#Tableau du nombre de tirage et de la variance selon le nombre de bille à collectionner\n",
    "df_study"
   ]
  },
  {
   "cell_type": "markdown",
   "metadata": {},
   "source": [
    "## Conclusion"
   ]
  },
  {
   "cell_type": "markdown",
   "metadata": {},
   "source": [
    "<p>\n",
    "La réponse à la question initiale est donc 72 * 20 = 1440. Il fallait en moyenne dépenser 1440 CHF à la Migros pour obtenir toutes les billes. Cependant il y a une grande variabilité pour 20 billes la variance est de 566 !\n",
    "</p>"
   ]
  },
  {
   "cell_type": "markdown",
   "metadata": {},
   "source": [
    "<h3>Ouverture vers d'autres questions</h3>\n",
    "<p>Il serait également intéressant d'étudier le cas ou un groupe d'amis échangent leurs billes. Ainsi le nombre moyen de tirage pourrait diminuer notament selon la taille du groupe d'amis. Il serait également intéressant de calculer le nombre de tirage pour être sûr à 99% d'avoir toutes les billes. Enfin, il serait intéressant d'envisager le cas où certaines billes sont plus rares que d'autres. Mais c'est une autre histoire....</p>"
   ]
  },
  {
   "cell_type": "raw",
   "metadata": {},
   "source": []
  }
 ],
 "metadata": {
  "kernelspec": {
   "display_name": "Python 3",
   "language": "python",
   "name": "python3"
  },
  "language_info": {
   "codemirror_mode": {
    "name": "ipython",
    "version": 3
   },
   "file_extension": ".py",
   "mimetype": "text/x-python",
   "name": "python",
   "nbconvert_exporter": "python",
   "pygments_lexer": "ipython3",
   "version": "3.8.5"
  }
 },
 "nbformat": 4,
 "nbformat_minor": 4
}
